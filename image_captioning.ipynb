{
  "nbformat": 4,
  "nbformat_minor": 0,
  "metadata": {
    "colab": {
      "name": "image_captioning",
      "provenance": [],
      "collapsed_sections": []
    },
    "kernelspec": {
      "name": "python3",
      "display_name": "Python 3"
    },
    "language_info": {
      "name": "python"
    },
    "accelerator": "GPU"
  },
  "cells": [
    {
      "cell_type": "code",
      "execution_count": 1,
      "metadata": {
        "id": "Ox4cgHYAL6HK"
      },
      "outputs": [],
      "source": [
        "import torch\n",
        "import torch.nn as nn\n",
        "import torchvision"
      ]
    },
    {
      "cell_type": "code",
      "source": [
        "# Feature Extractor - Reteaua Neuronala Convolutionala care extrage features de dimensiunea embedding-ului dintr-o imagine\n",
        "# si le utilizeaza in continuare in RNN pentru a face caption-ul pentru aceasta\n",
        "class FeatureExtractorCNN(nn.Module):\n",
        "    def __init__(self, embedding_size, continue_training=False):\n",
        "        super(FeatureExtractorCNN, self).__init__()\n",
        "        self.continue_training = continue_training\n",
        "        self.extractor = torchvision.models.inception_v3(pretrained=True)\n",
        "        self.extractor.fc = nn.Linear(in_features=self.extractor.fc.in_features, out_features=embedding_size)\n",
        "        self.activation = nn.ReLU()\n",
        "        self.dropout = nn.Dropout(0.25)\n",
        "    \n",
        "    def forward(self, x):\n",
        "        features = self.extractor(x)\n",
        "\n",
        "        for name, parameters in self.extractor.named_parameters():\n",
        "            if \"fc.weight\" in name or \"fc.bias\" in name:\n",
        "                parameters.require_grad = True\n",
        "            else:\n",
        "                parameters.require_grad = self.continue_training\n",
        "\n",
        "        return self.dropout(self.activation(features))"
      ],
      "metadata": {
        "id": "DcTE-cmUL-IK"
      },
      "execution_count": 2,
      "outputs": []
    },
    {
      "cell_type": "code",
      "source": [
        "# CaptioningRNN - Retea Neuronala Recurenta care utilizeaza features-urile obtinute din imaginea de input si,\n",
        "# utilizand mai multe layere de LSTM (long short-term memory) selecteaza cele mai potrivite cuvinte care ar\n",
        "# putea alcatui un caption corect pentru input-ul nostru\n",
        "class CaptioningRNN(nn.Module):\n",
        "    def __init__(self, embedding_size, hidden_size, vocabulary_size, layer_number):\n",
        "        super(CaptioningRNN, self).__init__()\n",
        "        self.embedding = nn.Embedding(num_embeddings=vocabulary_size, embedding_dim=embedding_size)\n",
        "        self.lstm = nn.LSTM(embedding_size, hidden_size, layer_number)\n",
        "        self.fc = nn.Linear(in_features=hidden_size, out_features=vocabulary_size)\n",
        "        self.dropout = nn.Dropout(0.25)\n",
        "    \n",
        "    def forward(self, features, captions):\n",
        "        embeddings = self.embeddings(captions)\n",
        "        embeddings = self.dropout(embeddings)\n",
        "        embeddings = torch.cat((features.unsqueeze(0), embeddings), dim=0)\n",
        "        \n",
        "        hidden_output, _ = self.lstm(embeddings)\n",
        "        output = self.fc(hidden_output)\n",
        "        return output"
      ],
      "metadata": {
        "id": "EDvFyjicL-Fo"
      },
      "execution_count": 3,
      "outputs": []
    },
    {
      "cell_type": "code",
      "source": [
        "# ImageCaptioningNet - Retea Neuronala care combina cele doua tipuri de retele neuronale\n",
        "# de mai sus - CNN si RNN pentru a crea descrieri pentru pozele noastre\n",
        "class ImageCaptioningNet(nn.Module):\n",
        "    def __init__(self, embedding_size, hidden_size, vocabulary_size, layer_number, continue_training=False):\n",
        "        super(ImageCaptioningNet, self).__init__()\n",
        "        self.feature_extractor_cnn = FeatureExtractorCNN(embedding_size, continue_training)\n",
        "        self.captioning_rnn = CaptioningRNN(embedding_size, hidden_size, vocabulary_size, layer_number)\n",
        "    \n",
        "    def forward(self, images, captions):\n",
        "        features = self.feature_extractor_cnn(images)\n",
        "        output = self.captioning_rnn(features, captions)\n",
        "        return output\n",
        "    \n",
        "    def generate_caption(self, image, vocabulary, max_length=50):\n",
        "        caption = []\n",
        "        with torch.no_grad():\n",
        "            out = self.feature_extractor_cnn(image).unsqueeze(0)\n",
        "            states = None\n",
        "\n",
        "            for _ in range(max_length):\n",
        "                hidden_output, states = self.captioning_rnn.lstm(out, states)\n",
        "                output = self.captioning_rnn.linear(hidden_output.squeeze(0))\n",
        "                \n",
        "                predicted_word = output.argmax(dim=1)\n",
        "                caption.append(predicted_word.item())\n",
        "                out = self.captioning_rnn.embedding(predicted_word).unsqueeze(0)\n",
        "\n",
        "                if vocabulary.itos[predicted_word.item()] == \"<EOS>\":\n",
        "                    break\n",
        "        \n",
        "        return [vocabulary.itos[word_idx] for word_idx in caption]"
      ],
      "metadata": {
        "id": "Hjnn0LvXL-C1"
      },
      "execution_count": 7,
      "outputs": []
    },
    {
      "cell_type": "code",
      "source": [
        ""
      ],
      "metadata": {
        "id": "Z2oxm26IL-AK"
      },
      "execution_count": null,
      "outputs": []
    },
    {
      "cell_type": "code",
      "source": [
        ""
      ],
      "metadata": {
        "id": "ZBGN19VdL99f"
      },
      "execution_count": null,
      "outputs": []
    },
    {
      "cell_type": "code",
      "source": [
        ""
      ],
      "metadata": {
        "id": "DBTu_kDVL96s"
      },
      "execution_count": null,
      "outputs": []
    },
    {
      "cell_type": "code",
      "source": [
        ""
      ],
      "metadata": {
        "id": "dXmACszYL94C"
      },
      "execution_count": null,
      "outputs": []
    },
    {
      "cell_type": "code",
      "source": [
        ""
      ],
      "metadata": {
        "id": "87HZAb71L91I"
      },
      "execution_count": null,
      "outputs": []
    },
    {
      "cell_type": "code",
      "source": [
        ""
      ],
      "metadata": {
        "id": "5rhvzInrL9yU"
      },
      "execution_count": null,
      "outputs": []
    },
    {
      "cell_type": "code",
      "source": [
        ""
      ],
      "metadata": {
        "id": "jHTU4QysL9vh"
      },
      "execution_count": null,
      "outputs": []
    },
    {
      "cell_type": "code",
      "source": [
        ""
      ],
      "metadata": {
        "id": "Wh8DmAKCL9sz"
      },
      "execution_count": null,
      "outputs": []
    },
    {
      "cell_type": "code",
      "source": [
        ""
      ],
      "metadata": {
        "id": "ReW5AyzWL9qE"
      },
      "execution_count": null,
      "outputs": []
    },
    {
      "cell_type": "code",
      "source": [
        ""
      ],
      "metadata": {
        "id": "FyjbXbLsL9nb"
      },
      "execution_count": null,
      "outputs": []
    }
  ]
}